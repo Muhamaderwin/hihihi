{
  "nbformat": 4,
  "nbformat_minor": 0,
  "metadata": {
    "colab": {
      "name": "Tugas1 672017313.ipynb",
      "provenance": [],
      "collapsed_sections": []
    },
    "kernelspec": {
      "name": "python3",
      "display_name": "Python 3"
    }
  },
  "cells": [
    {
      "cell_type": "code",
      "metadata": {
        "id": "YmexEcKXt0-n",
        "colab_type": "code",
        "colab": {}
      },
      "source": [
        ""
      ],
      "execution_count": null,
      "outputs": []
    },
    {
      "cell_type": "code",
      "metadata": {
        "id": "ypYZgAkLhldB",
        "colab_type": "code",
        "colab": {}
      },
      "source": [
        "import numpy as np \n",
        "import random\n",
        "from array import *\n"
      ],
      "execution_count": 1,
      "outputs": []
    },
    {
      "cell_type": "markdown",
      "metadata": {
        "id": "LEywjpTDoxGu",
        "colab_type": "text"
      },
      "source": [
        "MEMBUAT DAFTAR KOTA BERLIN52"
      ]
    },
    {
      "cell_type": "code",
      "metadata": {
        "id": "6iIJ3VG6o0k7",
        "colab_type": "code",
        "colab": {
          "base_uri": "https://localhost:8080/",
          "height": 918
        },
        "outputId": "da09e0f0-8dc5-4351-f56f-969eb6899b2e"
      },
      "source": [
        "daftarKota = [[565.0,575.0], [25.0,185.0], [345.0,750.0], [945.0,685.0],[845.0,655.0],[880.0,660.0],[25.0,230.0],[525.0,1000.0],[525.0,1000.0],[650.0,1130.0],\n",
        "              [1605.0,620.0],[1220.0,580.0],[1465.0,200.0],[1530.0,5.0],[845.0,680.0],[725.0,370.0],[145.0,665.0],[415.0,635.0],[510.0,875.0],[560.0,365.0],\n",
        "              [300.0,465.0],[520.0,585.0],[480.0,415.0],[835.0,625.0],[975.0,580.0],[1215.0,245.0],[1320.0,315.0],[1250.0,400.0],[660.0,180.0],[410.0,250.0],\n",
        "              [420.0,555.0],[575.0,665.0],[1150.0,1160.0],[700.0,580.0],[685.0,595.0],[685.0,610.0],[770.0,610.0],[795.0,645.0],[720.0,635.0],[760.0,650.0],\n",
        "              [475.0,960.0],[95.0,260.0],[875.0,920.0],[700.0,500.0],[555.0,815.0],[830.0,485.0],[1170.0,65.0],[830.0,610.0],[605.0,625.0],[595.0,360.0],\n",
        "              [1340.0,725.0],[1740.0,245.0]]\n",
        "for i in daftarKota:\n",
        "    for j in i:\n",
        "        print(j,end = \" \")\n",
        "    print()\n",
        "\n",
        "jumlahKota =  len(daftarKota)   \n",
        "print(jumlahKota)"
      ],
      "execution_count": 2,
      "outputs": [
        {
          "output_type": "stream",
          "text": [
            "565.0 575.0 \n",
            "25.0 185.0 \n",
            "345.0 750.0 \n",
            "945.0 685.0 \n",
            "845.0 655.0 \n",
            "880.0 660.0 \n",
            "25.0 230.0 \n",
            "525.0 1000.0 \n",
            "525.0 1000.0 \n",
            "650.0 1130.0 \n",
            "1605.0 620.0 \n",
            "1220.0 580.0 \n",
            "1465.0 200.0 \n",
            "1530.0 5.0 \n",
            "845.0 680.0 \n",
            "725.0 370.0 \n",
            "145.0 665.0 \n",
            "415.0 635.0 \n",
            "510.0 875.0 \n",
            "560.0 365.0 \n",
            "300.0 465.0 \n",
            "520.0 585.0 \n",
            "480.0 415.0 \n",
            "835.0 625.0 \n",
            "975.0 580.0 \n",
            "1215.0 245.0 \n",
            "1320.0 315.0 \n",
            "1250.0 400.0 \n",
            "660.0 180.0 \n",
            "410.0 250.0 \n",
            "420.0 555.0 \n",
            "575.0 665.0 \n",
            "1150.0 1160.0 \n",
            "700.0 580.0 \n",
            "685.0 595.0 \n",
            "685.0 610.0 \n",
            "770.0 610.0 \n",
            "795.0 645.0 \n",
            "720.0 635.0 \n",
            "760.0 650.0 \n",
            "475.0 960.0 \n",
            "95.0 260.0 \n",
            "875.0 920.0 \n",
            "700.0 500.0 \n",
            "555.0 815.0 \n",
            "830.0 485.0 \n",
            "1170.0 65.0 \n",
            "830.0 610.0 \n",
            "605.0 625.0 \n",
            "595.0 360.0 \n",
            "1340.0 725.0 \n",
            "1740.0 245.0 \n",
            "52\n"
          ],
          "name": "stdout"
        }
      ]
    },
    {
      "cell_type": "markdown",
      "metadata": {
        "id": "cPbvmwvxv4pO",
        "colab_type": "text"
      },
      "source": [
        "INISIALISAI POPULASI ACAK"
      ]
    },
    {
      "cell_type": "code",
      "metadata": {
        "id": "8t3y2SzbwB7_",
        "colab_type": "code",
        "colab": {
          "base_uri": "https://localhost:8080/",
          "height": 221
        },
        "outputId": "f4a6e46e-b332-437e-a0b3-0077598a4288"
      },
      "source": [
        " def initPopulasi(ukuranPopulasi,jumlahKota):\n",
        "  P = np.empty((ukuranPopulasi,jumlahKota))\n",
        "  P = P.astype('int')\n",
        "  for i in range(ukuranPopulasi):\n",
        "    I = np.random.permutation(jumlahKota)\n",
        "    for j in range(jumlahKota):\n",
        "      P[i][j]=I[j]\n",
        "  return P\n",
        "\n",
        "\n",
        "ukuranPopulasi = 4\n",
        "P = initPopulasi (ukuranPopulasi,jumlahKota)\n",
        "print(P)"
      ],
      "execution_count": 3,
      "outputs": [
        {
          "output_type": "stream",
          "text": [
            "[[14 11 32  9 38 20 19 12 45 51 33 49 24 44 21  2 39  5 15 40 22  3 25 50\n",
            "  23 42  4 30 36 18  7 28 31 43 26  1 34 10 46 13  0 16 48 37  6 29  8 35\n",
            "  17 47 41 27]\n",
            " [42  3 15 48 19  5  8 49 27 34 16 37  1 36 38 45 51 40 33 24 18 43 26 21\n",
            "   4 11 14  2 47 17 35 22  7 23 46 41 12 50 20 32  0 25 10 39 13  9 28 44\n",
            "   6 31 30 29]\n",
            " [14  4 22 16 35 11 25 23 20 36 26 51  6 29  5  3 17 19 42 28 43 32 34  1\n",
            "  33 40  7 47 44 39 49 15 37 30 46 12  0  9  8 24  2 10 38 13 18 45 31 50\n",
            "  21 41 27 48]\n",
            " [28 29  2 14  6 33  4 38  8 19 32  9 31  0 30 42 16 34 51 37 15 41 46 21\n",
            "  39 22  7  5 49 47 11 17 44 12 20  3 24  1 45 10 35 43 13 23 48 40 50 25\n",
            "  18 26 27 36]]\n"
          ],
          "name": "stdout"
        }
      ]
    },
    {
      "cell_type": "markdown",
      "metadata": {
        "id": "p0ODZTvLwbuf",
        "colab_type": "text"
      },
      "source": [
        "MEMBUAT FUNGSI OBJEKTIF"
      ]
    },
    {
      "cell_type": "code",
      "metadata": {
        "id": "4tnulOP3wnH7",
        "colab_type": "code",
        "colab": {
          "base_uri": "https://localhost:8080/",
          "height": 34
        },
        "outputId": "b2473108-d3c8-4345-cc3a-a047d4ae5bf1"
      },
      "source": [
        "def fungsiObjectif(populasi,daftarKota):\n",
        "  sz = populasi.shape\n",
        "  ukuranPopulasi = sz[0]\n",
        "  jumlahKota = sz[1]\n",
        "\n",
        "  matrikJarak = np.empty((ukuranPopulasi))\n",
        "  matrikJarak  = matrikJarak.astype('float')\n",
        "  n = len(daftarKota)\n",
        "\n",
        "  for i in range(ukuranPopulasi):\n",
        "    jarak = 0\n",
        "    for j in range(n-1):\n",
        "      jrkX = daftarKota[populasi[i][j]][0]-daftarKota[populasi[i][j+1]][0]\n",
        "      jrkY = daftarKota[populasi[i][j]][1]-daftarKota[populasi[i][j+1]][1]\n",
        "      d = np.sqrt(jrkX**2 + jrkY**2 )   \n",
        "      jarak = jarak  + d\n",
        "      \n",
        "    dn =  np.sqrt((daftarKota[populasi[i][n-1]][0]-daftarKota[populasi[i][0]][0])**2+ (daftarKota[populasi[i][n-1]][1]-daftarKota[populasi[i][0]][1])**2 )\n",
        "    jarak = jarak  + dn\n",
        "    matrikJarak[i] = jarak\n",
        "\n",
        "  return matrikJarak\n",
        "\n",
        "fitP = fungsiObjectif(P,daftarKota)\n",
        "print(fitP)\n",
        "#print(fitP.dtype)"
      ],
      "execution_count": 4,
      "outputs": [
        {
          "output_type": "stream",
          "text": [
            "[28017.74828785 32516.75241534 29892.52516598 30942.37116283]\n"
          ],
          "name": "stdout"
        }
      ]
    },
    {
      "cell_type": "markdown",
      "metadata": {
        "id": "eqbLp9nExA7L",
        "colab_type": "text"
      },
      "source": [
        "SELEKSI DENGAN MENGGUNAKAN METODE TURNAMEN"
      ]
    },
    {
      "cell_type": "code",
      "metadata": {
        "id": "4tP1-l8IxEus",
        "colab_type": "code",
        "colab": {
          "base_uri": "https://localhost:8080/",
          "height": 119
        },
        "outputId": "24bbcf6b-7ffb-49b9-c12d-b5eb8f62e004"
      },
      "source": [
        "def seleksi (P,fsObj):\n",
        "  jmlInduk = 2\n",
        "  sz = P.shape\n",
        "  ukuranPopulasi = sz[0]\n",
        "  jumlahKota = sz[1]\n",
        "\n",
        "  Induk = np.empty((jmlInduk,jumlahKota))\n",
        "  Induk = Induk.astype('int')\n",
        "  \n",
        "  for i in range (2):\n",
        "    # memilih dua individu secara acak \n",
        "    r1 = random.randint(0,ukuranPopulasi-1)\n",
        "    r2 = random.randint(0,ukuranPopulasi-1)\n",
        "    \n",
        "    if  fsObj[r1] < fsObj [r2]:\n",
        "      for j in range(jumlahKota):\n",
        "        Induk [i][j] = P[r1][j]\n",
        "    else:\n",
        "      for j in range(jumlahKota):\n",
        "        Induk [i][j] = P[r2][j]\n",
        "  return Induk\n",
        "\n",
        "Induk = seleksi(P,fitP)\n",
        "print(Induk)"
      ],
      "execution_count": 5,
      "outputs": [
        {
          "output_type": "stream",
          "text": [
            "[[14  4 22 16 35 11 25 23 20 36 26 51  6 29  5  3 17 19 42 28 43 32 34  1\n",
            "  33 40  7 47 44 39 49 15 37 30 46 12  0  9  8 24  2 10 38 13 18 45 31 50\n",
            "  21 41 27 48]\n",
            " [28 29  2 14  6 33  4 38  8 19 32  9 31  0 30 42 16 34 51 37 15 41 46 21\n",
            "  39 22  7  5 49 47 11 17 44 12 20  3 24  1 45 10 35 43 13 23 48 40 50 25\n",
            "  18 26 27 36]]\n"
          ],
          "name": "stdout"
        }
      ]
    },
    {
      "cell_type": "markdown",
      "metadata": {
        "id": "D44Rg2mAxYCc",
        "colab_type": "text"
      },
      "source": [
        "REKOMBINASI MENGGUNAKAN METODE PARTIALLY MIXED CROSSOVER (PMX) JUMLAH ANAK YANG DIHASILKAN ADALAH 2"
      ]
    },
    {
      "cell_type": "code",
      "metadata": {
        "id": "yxkP9szWxrSo",
        "colab_type": "code",
        "colab": {
          "base_uri": "https://localhost:8080/",
          "height": 119
        },
        "outputId": "71e505f7-d425-477a-e6af-c9a9e427b68c"
      },
      "source": [
        "#crossover \n",
        "\n",
        "def PMX(Induk):\n",
        "  sz = Induk.shape\n",
        "  brs = sz[0]\n",
        "  kol = sz[1]\n",
        "  #print(sz, brs, kol)\n",
        "\n",
        "  Anak = np.empty((2,kol))\n",
        "  Anak = Anak.astype('int')\n",
        "\n",
        "  r1 = random.randint(1,kol-2)\n",
        "\n",
        "  for i0 in range(r1): \n",
        "\n",
        "    Anak [0][i0] = Induk[0][i0]\n",
        "    Anak [1][i0] = Induk[1][i0]\n",
        "\n",
        "  batasCek1 = r1\n",
        "  batasCek2 = r1\n",
        "\n",
        "  for i in range(kol):\n",
        "    m = (i+r1)%kol\n",
        "\n",
        "    n1 = Induk[0][i] \n",
        "    n2 = Induk[1][i]\n",
        "\n",
        "    #mengecek apakah kota tertentu sudah ada di anak\n",
        "    idxAda1 = 0\n",
        "    idxAda2 = 0\n",
        "    for j1 in range(batasCek1): \n",
        "      \n",
        "      if batasCek1>(kol-1):\n",
        "        idxAda1 = 1\n",
        "\n",
        "      if Anak [0][j1] ==n2: \n",
        "        idxAda1 = 1\n",
        "            \n",
        "    for j2 in range(batasCek2): \n",
        "      \n",
        "      if batasCek2>(kol-1):\n",
        "        idxAda2 = 1\n",
        "\n",
        "      if Anak [1][i0]  == n1: \n",
        "        idxAda2 = 1\n",
        "\n",
        "    if idxAda1 == 0:\n",
        "      Anak[0][batasCek1] = n2\n",
        "      batasCek1 = batasCek1 +1\n",
        "   \n",
        "    if idxAda2 == 0:\n",
        "      Anak[1][batasCek2] = n1\n",
        "      batasCek2 = batasCek2 +1\n",
        "   \n",
        "  return Anak\n",
        "\n",
        "AnakCX = PMX(Induk)\n",
        "print(\"Anak :\",AnakCX)"
      ],
      "execution_count": 6,
      "outputs": [
        {
          "output_type": "stream",
          "text": [
            "Anak : [[14  4 22 16 35 11 25 23 20 36 28 29  2  6 33 38  8 19 32  9 31  0 30 42\n",
            "  34 51 37 15 41 46 21 39  7  5 49 47 17 44 12  3 24  1 45 10 43 13 48 40\n",
            "  50 18 26 27]\n",
            " [28 29  2 14  6 33  4 38  8 19 14  4 22 16 35 11 25 23 20 36 26 51  6 29\n",
            "   5  3 17 42 28 43 32 34  1 33 40  7 47 44 39 49 15 37 30 46 12  0  9  8\n",
            "  24  2 10 38]]\n"
          ],
          "name": "stdout"
        }
      ]
    },
    {
      "cell_type": "markdown",
      "metadata": {
        "id": "J4Umk-n0yJQc",
        "colab_type": "text"
      },
      "source": [
        "MUTASI DENGAN SWAB"
      ]
    },
    {
      "cell_type": "code",
      "metadata": {
        "id": "R1oUlj97yLza",
        "colab_type": "code",
        "colab": {
          "base_uri": "https://localhost:8080/",
          "height": 221
        },
        "outputId": "94e7a9fb-e68a-445c-bb73-1be997b81ee5"
      },
      "source": [
        " def MutasiSwap(Induk):\n",
        "  sz = Induk.shape\n",
        "  brs = sz[0]\n",
        "  kol = sz[1]\n",
        "\n",
        "  Anak = np.empty((2,kol))\n",
        "  Anak = Anak.astype('int')\n",
        "\n",
        "  Anak = Induk\n",
        "\n",
        "  r1 = random.randint(0,kol-1)\n",
        "  r2 = random.randint(0,kol-1)\n",
        "\n",
        "  while r1 == r2:\n",
        "    r2 = random.randint(0,kol-1)\n",
        "\n",
        "  I1rs1 = Induk [0][r1]\n",
        "  I1rs2 = Induk [0][r2]\n",
        "  I2rs1 = Induk [1][r1]\n",
        "  I2rs2 = Induk [1][r2] \n",
        "\n",
        "  Anak [0][r1] = I1rs2\n",
        "  Anak [0][r2] = I1rs1\n",
        "  Anak [1][r1] = I2rs2  \n",
        "  Anak [1][r2] = I2rs1\n",
        "\n",
        "  return Anak\n",
        "\n",
        "print(\"AnakCX :\",AnakCX)\n",
        "AnakM = MutasiSwap(AnakCX)\n",
        "print(\"AnakM :\",AnakM)"
      ],
      "execution_count": 7,
      "outputs": [
        {
          "output_type": "stream",
          "text": [
            "AnakCX : [[14  4 22 16 35 11 25 23 20 36 28 29  2  6 33 38  8 19 32  9 31  0 30 42\n",
            "  34 51 37 15 41 46 21 39  7  5 49 47 17 44 12  3 24  1 45 10 43 13 48 40\n",
            "  50 18 26 27]\n",
            " [28 29  2 14  6 33  4 38  8 19 14  4 22 16 35 11 25 23 20 36 26 51  6 29\n",
            "   5  3 17 42 28 43 32 34  1 33 40  7 47 44 39 49 15 37 30 46 12  0  9  8\n",
            "  24  2 10 38]]\n",
            "AnakM : [[14  4 22 16 35 11 25 23 20 36 28 29  2  6 33 38  8 49 32  9 31  0 30 42\n",
            "  34 51 37 15 41 46 21 39  7  5 19 47 17 44 12  3 24  1 45 10 43 13 48 40\n",
            "  50 18 26 27]\n",
            " [28 29  2 14  6 33  4 38  8 19 14  4 22 16 35 11 25 40 20 36 26 51  6 29\n",
            "   5  3 17 42 28 43 32 34  1 33 23  7 47 44 39 49 15 37 30 46 12  0  9  8\n",
            "  24  2 10 38]]\n"
          ],
          "name": "stdout"
        }
      ]
    },
    {
      "cell_type": "markdown",
      "metadata": {
        "id": "FdxiClovyoSy",
        "colab_type": "text"
      },
      "source": [
        "ELITISM (STEADY STATE REPLECMENT)"
      ]
    },
    {
      "cell_type": "code",
      "metadata": {
        "id": "XmuNMjChy5NT",
        "colab_type": "code",
        "colab": {
          "base_uri": "https://localhost:8080/",
          "height": 646
        },
        "outputId": "aed37933-a7f1-44e3-b279-202a93335ff2"
      },
      "source": [
        "def Elitism(P,Anak,fitP,fitAnak):\n",
        "  szP = P.shape\n",
        "  brsP = szP[0]\n",
        "  kolP = szP[1]\n",
        "  szA = Anak.shape\n",
        "  brsA = szA[0]\n",
        "  kolA = szA[1]\n",
        "\n",
        "  #print (fitP)\n",
        "  for i in range(brsA):\n",
        "    iJelek = fitP.max()\n",
        "    idxJelek = fitP.argmax()\n",
        "\n",
        "    if fitAnak[i]<iJelek:\n",
        "      fitP[idxJelek] = fitAnak[i]\n",
        "      for j in range (kolP):\n",
        "        P[idxJelek][j] = Anak[i][j]\n",
        "\n",
        "  return [P,fitP]\n",
        "\n",
        "fitAnak= fungsiObjectif(AnakM,daftarKota)\n",
        "print(P)\n",
        "print(AnakM)\n",
        "print(fitP)\n",
        "print(fitAnak)\n",
        "P = Elitism (P,AnakM,fitP,fitAnak)\n",
        "print(P)\n",
        "print(fitP)"
      ],
      "execution_count": 8,
      "outputs": [
        {
          "output_type": "stream",
          "text": [
            "[[14 11 32  9 38 20 19 12 45 51 33 49 24 44 21  2 39  5 15 40 22  3 25 50\n",
            "  23 42  4 30 36 18  7 28 31 43 26  1 34 10 46 13  0 16 48 37  6 29  8 35\n",
            "  17 47 41 27]\n",
            " [42  3 15 48 19  5  8 49 27 34 16 37  1 36 38 45 51 40 33 24 18 43 26 21\n",
            "   4 11 14  2 47 17 35 22  7 23 46 41 12 50 20 32  0 25 10 39 13  9 28 44\n",
            "   6 31 30 29]\n",
            " [14  4 22 16 35 11 25 23 20 36 26 51  6 29  5  3 17 19 42 28 43 32 34  1\n",
            "  33 40  7 47 44 39 49 15 37 30 46 12  0  9  8 24  2 10 38 13 18 45 31 50\n",
            "  21 41 27 48]\n",
            " [28 29  2 14  6 33  4 38  8 19 32  9 31  0 30 42 16 34 51 37 15 41 46 21\n",
            "  39 22  7  5 49 47 11 17 44 12 20  3 24  1 45 10 35 43 13 23 48 40 50 25\n",
            "  18 26 27 36]]\n",
            "[[14  4 22 16 35 11 25 23 20 36 28 29  2  6 33 38  8 49 32  9 31  0 30 42\n",
            "  34 51 37 15 41 46 21 39  7  5 19 47 17 44 12  3 24  1 45 10 43 13 48 40\n",
            "  50 18 26 27]\n",
            " [28 29  2 14  6 33  4 38  8 19 14  4 22 16 35 11 25 40 20 36 26 51  6 29\n",
            "   5  3 17 42 28 43 32 34  1 33 23  7 47 44 39 49 15 37 30 46 12  0  9  8\n",
            "  24  2 10 38]]\n",
            "[28017.74828785 32516.75241534 29892.52516598 30942.37116283]\n",
            "[29581.98793955 27847.75622175]\n",
            "[array([[14, 11, 32,  9, 38, 20, 19, 12, 45, 51, 33, 49, 24, 44, 21,  2,\n",
            "        39,  5, 15, 40, 22,  3, 25, 50, 23, 42,  4, 30, 36, 18,  7, 28,\n",
            "        31, 43, 26,  1, 34, 10, 46, 13,  0, 16, 48, 37,  6, 29,  8, 35,\n",
            "        17, 47, 41, 27],\n",
            "       [14,  4, 22, 16, 35, 11, 25, 23, 20, 36, 28, 29,  2,  6, 33, 38,\n",
            "         8, 49, 32,  9, 31,  0, 30, 42, 34, 51, 37, 15, 41, 46, 21, 39,\n",
            "         7,  5, 19, 47, 17, 44, 12,  3, 24,  1, 45, 10, 43, 13, 48, 40,\n",
            "        50, 18, 26, 27],\n",
            "       [14,  4, 22, 16, 35, 11, 25, 23, 20, 36, 26, 51,  6, 29,  5,  3,\n",
            "        17, 19, 42, 28, 43, 32, 34,  1, 33, 40,  7, 47, 44, 39, 49, 15,\n",
            "        37, 30, 46, 12,  0,  9,  8, 24,  2, 10, 38, 13, 18, 45, 31, 50,\n",
            "        21, 41, 27, 48],\n",
            "       [28, 29,  2, 14,  6, 33,  4, 38,  8, 19, 14,  4, 22, 16, 35, 11,\n",
            "        25, 40, 20, 36, 26, 51,  6, 29,  5,  3, 17, 42, 28, 43, 32, 34,\n",
            "         1, 33, 23,  7, 47, 44, 39, 49, 15, 37, 30, 46, 12,  0,  9,  8,\n",
            "        24,  2, 10, 38]]), array([28017.74828785, 29581.98793955, 29892.52516598, 27847.75622175])]\n",
            "[28017.74828785 29581.98793955 29892.52516598 27847.75622175]\n"
          ],
          "name": "stdout"
        }
      ]
    },
    {
      "cell_type": "markdown",
      "metadata": {
        "id": "LYHfnOQqzEXI",
        "colab_type": "text"
      },
      "source": [
        "PROSEDUR GA"
      ]
    },
    {
      "cell_type": "code",
      "metadata": {
        "id": "039u8twazLzQ",
        "colab_type": "code",
        "colab": {
          "base_uri": "https://localhost:8080/",
          "height": 561
        },
        "outputId": "115009a2-6247-4e6e-f80c-6b017c995061"
      },
      "source": [
        "# Inisialisasi paramater\n",
        "PCX = 0.95\n",
        "Pm = 0.01\n",
        "ukuranPopulasi = 4\n",
        "max_generasi = 5\n",
        "\n",
        "# Inisialisasi populasi \n",
        "\n",
        "P = initPopulasi (ukuranPopulasi,jumlahKota)\n",
        "print(\"P0 :\",P)\n",
        "\n",
        "#melakukan evaluasi P\n",
        "fitP = fungsiObjectif(P,daftarKota)\n",
        "print(\"fitness populasi awal:\",fitP)\n",
        "\n",
        "print(\"fitness terbaik awal:\",fitP.min())\n",
        "print(\"rute awal :\",P[fitP.argmin()])\n",
        "\n",
        "\n",
        "for i in range(max_generasi):\n",
        "  print(\"generasi :\",i)\n",
        "  Induk = seleksi(P,fitP)\n",
        "  #print(\"Induk :\",Induk)\n",
        "\n",
        "  Anak = Induk\n",
        "\n",
        "  rxo = random.random()\n",
        "\n",
        "  if rxo < PCX:\n",
        "    Anak = PMX(Induk)\n",
        "    #print(\"AnakXO :\",Anak)\n",
        "\n",
        "    rm = random.random()\n",
        "    if rm < Pm:\n",
        "      Anak = MutasiSwap(Anak)\n",
        "      #print(\"AnakR :\",Anak)\n",
        "\n",
        "  fitAnak = fungsiObjectif(Anak,daftarKota)\n",
        "  #print(\"fitAnak :\",fitAnak)\n",
        "\n",
        "  print(\"fitness:\",fitAnak.min())\n",
        "\n",
        "  [P, fitP]= Elitism (P,Anak,fitP,fitAnak)   \n",
        "  \n",
        "print(\"fitness populasi akhir:\",fitP)\n",
        "print(\"fitness akhir:\",fitP.min())\n",
        "print(\"rute akhir :\",P[fitP.argmin()])"
      ],
      "execution_count": 9,
      "outputs": [
        {
          "output_type": "stream",
          "text": [
            "P0 : [[35  5 15 21 28 50 38 37 19 13 36  2 10  0  3 20  6 16 17 43 49 44 46 14\n",
            "   1 41 27 18 32 29 26 48 34  7 25 39 31 24  8 40  9 45 47 51  4 12 22 42\n",
            "  30 11 33 23]\n",
            " [ 5 15 32 39 34 28  0 26 23 27 21 25 17 36 41 11 45 49 18  4 48 40 47 30\n",
            "   3 46 13 42  9 14  1  8 31 35 24 38  7 22 29 50 51 10 37 33  6 43  2 20\n",
            "  19 44 12 16]\n",
            " [45 27 29  7 47  3 42 25  1  0 13 46 22 35 49  5 48  4 10 40 43 24 14  9\n",
            "  21 16 15 20 36 32  6 50 39 30 33 34 51 37 28 38  8 12 19 18 23 31 26 41\n",
            "  44 17 11  2]\n",
            " [28  7  6 46 13 50 10  8 33 38 49 42 25 26 19  5 24 22 27 32 14 34 12 39\n",
            "   3 47 20 48 36  2 41 16  9 45 29 31 11 21 18 37 35  4 30 15 17  1 44 23\n",
            "  51  0 40 43]]\n",
            "fitness populasi awal: [30444.33205724 29196.90916502 32045.10480176 27362.99802653]\n",
            "fitness terbaik awal: 27362.998026534682\n",
            "rute awal : [28  7  6 46 13 50 10  8 33 38 49 42 25 26 19  5 24 22 27 32 14 34 12 39\n",
            "  3 47 20 48 36  2 41 16  9 45 29 31 11 21 18 37 35  4 30 15 17  1 44 23\n",
            " 51  0 40 43]\n",
            "generasi : 0\n",
            "fitness: 29459.46677899061\n",
            "generasi : 1\n",
            "fitness: 26498.872878668175\n",
            "generasi : 2\n",
            "fitness: 26102.94460843325\n",
            "generasi : 3\n",
            "fitness: 27696.867579502305\n",
            "generasi : 4\n",
            "fitness: 19192.747545691578\n",
            "fitness populasi akhir: [25165.63422644 26498.87287867 26102.94460843 19192.74754569]\n",
            "fitness akhir: 19192.747545691578\n",
            "rute akhir : [ 5 15 32 39 34 28  0 26 23  5 15 32 39 34 28  0 26 27 21 25 17 36 41 11\n",
            " 45 49 18  4 48 40 47 30  3 46 13 42  0  0  0  0  0  0  0  0  0  0  0  0\n",
            "  0  0  0  0]\n"
          ],
          "name": "stdout"
        }
      ]
    }
  ]
}
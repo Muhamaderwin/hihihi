{
  "nbformat": 4,
  "nbformat_minor": 0,
  "metadata": {
    "colab": {
      "name": "EXAMPLE_GA_TSP.ipynb",
      "provenance": [],
      "collapsed_sections": []
    },
    "kernelspec": {
      "name": "python3",
      "display_name": "Python 3"
    }
  },
  "cells": [
    {
      "cell_type": "markdown",
      "metadata": {
        "id": "TlvuqXS5H5rj",
        "colab_type": "text"
      },
      "source": [
        "Simple example of implementation Genetic Algorithm for Travelling Salesman Problem\n",
        "\n",
        "Penerapan Algoritma Genetik untuk menyelesaikan TSP"
      ]
    },
    {
      "cell_type": "markdown",
      "metadata": {
        "id": "YuYsg8XLIA3f",
        "colab_type": "text"
      },
      "source": [
        "import library\n",
        "\n",
        "memanggil library"
      ]
    },
    {
      "cell_type": "code",
      "metadata": {
        "id": "dUKJPeefH-j-",
        "colab_type": "code",
        "colab": {}
      },
      "source": [
        "import numpy as np \n",
        "import operator\n",
        "import pandas as pd\n",
        "import matplotlib.pyplot as plt\n",
        "import random\n",
        "from array import *"
      ],
      "execution_count": 0,
      "outputs": []
    },
    {
      "cell_type": "markdown",
      "metadata": {
        "id": "8laOpsGPIFWd",
        "colab_type": "text"
      },
      "source": [
        "Create city list. The are given 5 cities\n",
        "\n",
        "Membuat daftar kota dalam bentuk array"
      ]
    },
    {
      "cell_type": "code",
      "metadata": {
        "id": "hkS0WFaXIHc1",
        "colab_type": "code",
        "outputId": "16f9c4ba-7720-41a6-c30d-b46d081cab1a",
        "colab": {
          "base_uri": "https://localhost:8080/",
          "height": 109
        }
      },
      "source": [
        "daftarKota = [[0, 0], [5, 6], [1, 4], [3,4],[7,7]]\n",
        "for i in daftarKota:\n",
        "    for j in i:\n",
        "        print(j,end = \" \")\n",
        "    print()\n",
        "\n",
        "jumlahKota =  len(daftarKota)   "
      ],
      "execution_count": 0,
      "outputs": [
        {
          "output_type": "stream",
          "text": [
            "0 0 \n",
            "5 6 \n",
            "1 4 \n",
            "3 4 \n",
            "7 7 \n"
          ],
          "name": "stdout"
        }
      ]
    },
    {
      "cell_type": "markdown",
      "metadata": {
        "id": "n-Bh1noVIi72",
        "colab_type": "text"
      },
      "source": [
        "Inisialisasi Populasi secara acak\n",
        "\n",
        "Array P diinisialisasi sebagai array integer\n",
        "\n",
        "Solusi awal dibuat dengan random permutation"
      ]
    },
    {
      "cell_type": "code",
      "metadata": {
        "id": "QxceEYDXImIe",
        "colab_type": "code",
        "colab": {}
      },
      "source": [
        "def initPopulasi(ukuranPopulasi,jumlahKota):\n",
        "  P = np.empty((ukuranPopulasi,jumlahKota))\n",
        "  P = P.astype('int')\n",
        "  for i in range(ukuranPopulasi):\n",
        "    I = np.random.permutation(jumlahKota)\n",
        "    for j in range(jumlahKota):\n",
        "      P[i][j]=I[j]\n",
        "  return P\n",
        "\n",
        "\n",
        "#ukuranPopulasi = 4\n",
        "#P = initPopulasi (ukuranPopulasi,jumlahKota)\n",
        "#print(P)\n",
        "#print(P.dtype)\n"
      ],
      "execution_count": 0,
      "outputs": []
    },
    {
      "cell_type": "markdown",
      "metadata": {
        "id": "x41MjO-XWRLC",
        "colab_type": "text"
      },
      "source": [
        "Membuat fungsi objektif\n",
        "\n",
        "Jarak yang diukur adalah jarak euclidian"
      ]
    },
    {
      "cell_type": "code",
      "metadata": {
        "id": "OLnh33iBWUT_",
        "colab_type": "code",
        "colab": {}
      },
      "source": [
        "def fungsiObjectif(populasi,daftarKota):\n",
        "  sz = populasi.shape\n",
        "  ukuranPopulasi = sz[0]\n",
        "  jumlahKota = sz[1]\n",
        "\n",
        "  matrikJarak = np.empty((ukuranPopulasi))\n",
        "  matrikJarak  = matrikJarak.astype('float')\n",
        "  n = len(daftarKota)\n",
        "\n",
        "  for i in range(ukuranPopulasi):\n",
        "    jarak = 0\n",
        "    for j in range(n-1):\n",
        "      jrkX = daftarKota[populasi[i][j]][0]-daftarKota[populasi[i][j+1]][0]\n",
        "      jrkY = daftarKota[populasi[i][j]][1]-daftarKota[populasi[i][j+1]][1]\n",
        "      d = np.sqrt(jrkX**2 + jrkY**2 )   \n",
        "      jarak = jarak  + d\n",
        "      \n",
        "    dn =  np.sqrt((daftarKota[populasi[i][n-1]][0]-daftarKota[populasi[i][0]][0])**2+ (daftarKota[populasi[i][n-1]][1]-daftarKota[populasi[i][0]][1])**2 )\n",
        "    jarak = jarak  + dn\n",
        "    matrikJarak[i] = jarak\n",
        "\n",
        "  return matrikJarak\n",
        "\n",
        "#fitP = fungsiObjectif(P,daftarKota)\n",
        "#print(fitP)\n",
        "#print(fitP.dtype)\n",
        "\n"
      ],
      "execution_count": 0,
      "outputs": []
    },
    {
      "cell_type": "markdown",
      "metadata": {
        "id": "MF5fIQc9YnrR",
        "colab_type": "text"
      },
      "source": [
        "Seleksi menggunakan metode tournamen wheel\n",
        "\n",
        "Ukuran turname k = 2\n",
        "\n",
        "Jumlah induk yang dipilih adalah 2"
      ]
    },
    {
      "cell_type": "code",
      "metadata": {
        "id": "MOPp5lxuRQfe",
        "colab_type": "code",
        "colab": {}
      },
      "source": [
        "\n",
        "def seleksi (P):\n",
        "  jmlInduk = 2\n",
        "  sz = P.shape\n",
        "  ukuranPopulasi = sz[0]\n",
        "  jumlahKota = sz[1]\n",
        "\n",
        "  Induk = np.empty((jmlInduk,jumlahKota))\n",
        "  Induk = Induk.astype('int')\n",
        "  \n",
        "  for i in range (2):\n",
        "    # memilih dua individu secara acak \n",
        "    r1 = random.randint(0,ukuranPopulasi-1)\n",
        "    r2 = random.randint(0,ukuranPopulasi-1)\n",
        "    #print(\"i :\",i)\n",
        "    #print(\":r1 :\",r1, \"fsObj[r1] \",fsObj[r1])\n",
        "    #print(\":r2 :\",r2, \"fsObj[r2] \",fsObj[r2])\n",
        "\n",
        "    if  fsObj[r1] < fsObj [r2]:\n",
        "      for j in range(jumlahKota):\n",
        "        Induk [i][j] = P[r1][j]\n",
        "    else:\n",
        "      for j in range(jumlahKota):\n",
        "        Induk [i][j] = P[r2][j]\n",
        "  return Induk\n",
        "\n",
        "#Induk = seleksi(P)\n",
        "#print(Induk)"
      ],
      "execution_count": 0,
      "outputs": []
    },
    {
      "cell_type": "markdown",
      "metadata": {
        "id": "n5Yn_dEqcguL",
        "colab_type": "text"
      },
      "source": [
        "Rekombinasi menggunaka metode Partially Mixed Crossover (PMX)\n",
        "Jumlah anak yang dihasilkan adalah 2"
      ]
    },
    {
      "cell_type": "code",
      "metadata": {
        "id": "lP87dJajWdsX",
        "colab_type": "code",
        "colab": {}
      },
      "source": [
        "#crossover \n",
        "\n",
        "def PMX(Induk):\n",
        "  sz = Induk.shape\n",
        "  brs = sz[0]\n",
        "  kol = sz[1]\n",
        "  #print(sz, brs, kol)\n",
        "\n",
        "  I1 = np.empty((kol))\n",
        "  I2 = np.empty((kol))\n",
        "  A1 = np.empty((kol))\n",
        "  A2 = np.empty((kol))\n",
        "  Anak = np.empty((2,kol))\n",
        "  Anak = Anak.astype('int')\n",
        "\n",
        "\n",
        "  for i in range(kol):    \n",
        "    I1[i]= Induk[0][i]\n",
        "    I2[i]= Induk[1][i]\n",
        "\n",
        "  r1 = random.randint(1,kol-2)\n",
        "\n",
        "  for i0 in range(r1): \n",
        "    A1[i0] = I1[i0]\n",
        "    A2[i0]= I2[i0]\n",
        "\n",
        "  batasCek1 = r1\n",
        "  batasCek2 = r1\n",
        "\n",
        "  for i in range(kol):\n",
        "    m = (i+r1)%kol\n",
        "\n",
        "    n1 = I1[m]\n",
        "    n2 = I2[m]\n",
        "\n",
        "    #mengecek apakah kota tertentu sudah ada di anak\n",
        "    idxAda1 = 0\n",
        "    idxAda2 = 0\n",
        "    for j1 in range(batasCek1): \n",
        "      \n",
        "      if batasCek1>kol:\n",
        "        idxAda1 = 1\n",
        "\n",
        "      if A1[j1] == n2:\n",
        "        idxAda1 = 1\n",
        "            \n",
        "    for j2 in range(batasCek2): \n",
        "      \n",
        "      if batasCek2>kol:\n",
        "        idxAda2 = 1\n",
        "\n",
        "      if A2[j2] == n1:\n",
        "        idxAda2 = 1\n",
        "      \n",
        "    if idxAda1 == 0:\n",
        "      A1[batasCek1] = n2\n",
        "      batasCek1 = batasCek1 +1\n",
        "   \n",
        "    if idxAda2 == 0:\n",
        "      A2[batasCek2] = n1 \n",
        "      batasCek2 = batasCek2 +1\n",
        "    \n",
        "  for i in range (kol):\n",
        "    Anak[0][i]= A1[i]\n",
        "    Anak[1][i]= A2[i]\n",
        "   \n",
        "  return Anak\n",
        "\n",
        "#AnakCX = PMX(Induk)\n",
        "#print(\"Anak :\",AnakCX)\n",
        "\n",
        "\n",
        "\n"
      ],
      "execution_count": 0,
      "outputs": []
    },
    {
      "cell_type": "markdown",
      "metadata": {
        "id": "-5JJRBaEZCcC",
        "colab_type": "text"
      },
      "source": [
        "Mutasi dengan Swap\n",
        "\n",
        "index kota yang di swap pada kedua anak sama"
      ]
    },
    {
      "cell_type": "code",
      "metadata": {
        "id": "9cmy4DZ-ZCu7",
        "colab_type": "code",
        "colab": {}
      },
      "source": [
        "def MutasiSwap(Induk):\n",
        "  sz = Induk.shape\n",
        "  brs = sz[0]\n",
        "  kol = sz[1]\n",
        "\n",
        "  Anak = np.empty((2,kol))\n",
        "  Anak = Anak.astype('int')\n",
        "\n",
        "  Anak = Induk\n",
        "\n",
        "  #print(\"Induk :\",Induk)\n",
        "\n",
        "  r1 = random.randint(0,kol-1)\n",
        "  r2 = random.randint(0,kol-1)\n",
        "\n",
        "  while r1 == r2:\n",
        "    r2 = random.randint(0,kol-1)\n",
        "\n",
        "  if r1 < r2:\n",
        "    rs1 = r1\n",
        "    rs2 = r2\n",
        "  else:\n",
        "    rs1 = r2\n",
        "    rs2 = r1\n",
        "\n",
        "  I1rs1 = Induk [0][rs1]\n",
        "  I1rs2 = Induk [0][rs2]\n",
        "  I2rs1 = Induk [1][rs1]\n",
        "  I2rs2 = Induk [1][rs2] \n",
        "\n",
        "  Anak [0][rs1] = I1rs2 \n",
        "  Anak [0][rs2] = I1rs1\n",
        "  Anak [1][rs1] = I2rs2  \n",
        "  Anak [1][rs2] = I2rs1\n",
        "\n",
        "  return Anak\n",
        "\n",
        "#print(\"AnakCX :\",AnakCX)\n",
        "#AnakM = MutasiSwap(AnakCX)\n",
        "#print(\"AnakM :\",AnakM)\n"
      ],
      "execution_count": 0,
      "outputs": []
    },
    {
      "cell_type": "markdown",
      "metadata": {
        "id": "TqhipyCpH0qn",
        "colab_type": "text"
      },
      "source": [
        "Elitism (steady state replacement)"
      ]
    },
    {
      "cell_type": "code",
      "metadata": {
        "id": "EzDjyLGVH2Q3",
        "colab_type": "code",
        "colab": {}
      },
      "source": [
        "def Elitism(P,Anak,fitP,fitAnak):\n",
        "  szP = P.shape\n",
        "  brsP = szP[0]\n",
        "  kolP = szP[1]\n",
        "  szA = Anak.shape\n",
        "  brsA = szA[0]\n",
        "  kolA = szA[1]\n",
        "\n",
        "  #print (fitP)\n",
        "  for i in range(brsA):\n",
        "    iJelek = fitP.max()\n",
        "    idxJelek = fitP.argmax()\n",
        "\n",
        "    if fitAnak[i]<iJelek:\n",
        "      fitP[idxJelek] = fitAnak[i]\n",
        "      for j in range (kolP):\n",
        "        P[idxJelek][j] = Anak[i][j]\n",
        "\n",
        "  return [P,fitP]\n",
        "\n",
        "\n",
        "#print(P)\n",
        "#print(Anak)\n",
        "#print(fitP)\n",
        "#print(fitAnak)\n",
        "#P = Elitism (P,Anak,fitP,fitAnak)\n",
        "#print(P)\n",
        "#print(fitP)\n"
      ],
      "execution_count": 0,
      "outputs": []
    },
    {
      "cell_type": "markdown",
      "metadata": {
        "id": "eGI6G13MCtyR",
        "colab_type": "text"
      },
      "source": [
        "Prosedur GA "
      ]
    },
    {
      "cell_type": "code",
      "metadata": {
        "id": "Xxsay71_5pFJ",
        "colab_type": "code",
        "outputId": "97724c03-c745-47ef-97d6-8b422d0901bc",
        "colab": {
          "base_uri": "https://localhost:8080/",
          "height": 202
        }
      },
      "source": [
        "# Inisialisasi paramater\n",
        "PCX = 0.95\n",
        "Pm = 0.01\n",
        "ukuranPopulasi = 4\n",
        "max_generasi = 5\n",
        "\n",
        "# Inisialisasi populasi \n",
        "\n",
        "P = initPopulasi (ukuranPopulasi,jumlahKota)\n",
        "print(\"P0 :\",P)\n",
        "\n",
        "#melakukan evaluasi P\n",
        "fitP = fungsiObjectif(P,daftarKota)\n",
        "print(\"fitness populasi awal:\",fitP)\n",
        "\n",
        "print(\"fitness terbaik awal:\",fitP.min())\n",
        "print(\"rute awal :\",P[fitP.argmin()])\n",
        "\n",
        "\n",
        "for i in range(max_generasi):\n",
        "  Induk = seleksi(P)\n",
        "  #print(\"Induk :\",Induk)\n",
        "\n",
        "  Anak = Induk\n",
        "\n",
        "  rxo = random.random()\n",
        "\n",
        "  if rxo < PCX:\n",
        "    Anak = PMX(Induk)\n",
        "\n",
        "    rm = random.random()\n",
        "    if rm < Pm:\n",
        "      Anak = MutasiSwap(Anak)\n",
        "\n",
        "  fitAnak = fungsiObjectif(Anak,daftarKota)\n",
        "  #print(\"fitAnak :\",fitAnak)\n",
        "\n",
        "  [P, fitP]= Elitism (P,Anak,fitP,fitAnak)   \n",
        "  \n",
        "print(\"fitness populasi akhir:\",fitP)\n",
        "print(\"fitness akhir:\",fitP.min())\n",
        "print(\"rute akhir :\",P[fitP.argmin()])\n",
        "\n",
        "\n"
      ],
      "execution_count": 0,
      "outputs": [
        {
          "output_type": "stream",
          "text": [
            "P0 : [[1 4 3 2 0]\n",
            " [0 4 2 1 3]\n",
            " [3 4 2 0 1]\n",
            " [1 4 3 2 0]]\n",
            "fitness populasi awal: [21.16942328 28.90826195 26.46998636 21.16942328]\n",
            "fitness terbaik awal: 21.169423279024105\n",
            "rute awal : [1 4 3 2 0]\n",
            "fitness populasi akhir: [20.89580466 20.83130956 20.89580466 20.89580466]\n",
            "fitness akhir: 20.83130955811703\n",
            "rute akhir : [1 4 3 0 2]\n"
          ],
          "name": "stdout"
        }
      ]
    }
  ]
}